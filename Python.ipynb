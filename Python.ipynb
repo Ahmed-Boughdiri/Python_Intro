{
 "cells": [
  {
   "cell_type": "code",
   "execution_count": 1,
   "metadata": {},
   "outputs": [
    {
     "name": "stdout",
     "output_type": "stream",
     "text": [
      "2002\n",
      "2009\n",
      "2016\n",
      "2023\n",
      "2037\n",
      "2044\n",
      "2051\n",
      "2058\n",
      "2072\n",
      "2079\n",
      "2086\n",
      "2093\n",
      "2107\n",
      "2114\n",
      "2121\n",
      "2128\n",
      "2142\n",
      "2149\n",
      "2156\n",
      "2163\n",
      "2177\n",
      "2184\n",
      "2191\n",
      "2198\n",
      "2212\n",
      "2219\n",
      "2226\n",
      "2233\n",
      "2247\n",
      "2254\n",
      "2261\n",
      "2268\n",
      "2282\n",
      "2289\n",
      "2296\n",
      "2303\n",
      "2317\n",
      "2324\n",
      "2331\n",
      "2338\n",
      "2352\n",
      "2359\n",
      "2366\n",
      "2373\n",
      "2387\n",
      "2394\n",
      "2401\n",
      "2408\n",
      "2422\n",
      "2429\n",
      "2436\n",
      "2443\n",
      "2457\n",
      "2464\n",
      "2471\n",
      "2478\n",
      "2492\n",
      "2499\n",
      "2506\n",
      "2513\n",
      "2527\n",
      "2534\n",
      "2541\n",
      "2548\n",
      "2562\n",
      "2569\n",
      "2576\n",
      "2583\n",
      "2597\n",
      "2604\n",
      "2611\n",
      "2618\n",
      "2632\n",
      "2639\n",
      "2646\n",
      "2653\n",
      "2667\n",
      "2674\n",
      "2681\n",
      "2688\n",
      "2702\n",
      "2709\n",
      "2716\n",
      "2723\n",
      "2737\n",
      "2744\n",
      "2751\n",
      "2758\n",
      "2772\n",
      "2779\n",
      "2786\n",
      "2793\n",
      "2807\n",
      "2814\n",
      "2821\n",
      "2828\n",
      "2842\n",
      "2849\n",
      "2856\n",
      "2863\n",
      "2877\n",
      "2884\n",
      "2891\n",
      "2898\n",
      "2912\n",
      "2919\n",
      "2926\n",
      "2933\n",
      "2947\n",
      "2954\n",
      "2961\n",
      "2968\n",
      "2982\n",
      "2989\n",
      "2996\n",
      "3003\n",
      "3017\n",
      "3024\n",
      "3031\n",
      "3038\n",
      "3052\n",
      "3059\n",
      "3066\n",
      "3073\n",
      "3087\n",
      "3094\n",
      "3101\n",
      "3108\n",
      "3122\n",
      "3129\n",
      "3136\n",
      "3143\n",
      "3157\n",
      "3164\n",
      "3171\n",
      "3178\n",
      "3192\n",
      "3199\n"
     ]
    }
   ],
   "source": [
    "#Question 1:\n",
    "\n",
    "def divisible7(i):\n",
    "    return (i%7 == 0)\n",
    "\n",
    "def multiple4(i):\n",
    "    return (i%5 == 0)\n",
    "\n",
    "for i in range(2000,3200):\n",
    "    if divisible7(i) and not multiple4(i):\n",
    "        print(i)\n",
    "        "
   ]
  },
  {
   "cell_type": "code",
   "execution_count": 3,
   "metadata": {},
   "outputs": [
    {
     "name": "stdout",
     "output_type": "stream",
     "text": [
      "Enter A Number: 3\n",
      "6\n"
     ]
    }
   ],
   "source": [
    "#Question 2:\n",
    "\n",
    "def fact(x):\n",
    "    result = 1\n",
    "    for i in range(1,x+1):\n",
    "        result *= i\n",
    "    return result\n",
    "\n",
    "x = int(input(\"Enter A Number: \"))\n",
    "print(fact(x))\n"
   ]
  },
  {
   "cell_type": "code",
   "execution_count": 4,
   "metadata": {},
   "outputs": [
    {
     "name": "stdout",
     "output_type": "stream",
     "text": [
      "Enter a Number: 5\n",
      "{1: 1, 2: 4, 3: 9, 4: 16, 5: 25}\n"
     ]
    }
   ],
   "source": [
    "#Question 3:\n",
    "\n",
    "def createDict(x):\n",
    "    result = {}\n",
    "    for i in range(1,x+1):\n",
    "        result[i] = (i*i)\n",
    "    return result\n",
    "\n",
    "x = int(input(\"Enter a Number: \"))\n",
    "result = createDict(x)\n",
    "print(result)\n"
   ]
  },
  {
   "cell_type": "code",
   "execution_count": 1,
   "metadata": {},
   "outputs": [
    {
     "name": "stdout",
     "output_type": "stream",
     "text": [
      "Enter a String: ahmed\n",
      "Enter a Number: 2\n",
      "ahed\n"
     ]
    }
   ],
   "source": [
    "#Question 4:\n",
    "\n",
    "def checkX(x, ch):\n",
    "    return (x >= 0) and (x <= len(ch) - 1)\n",
    "\n",
    "def missing_char(ch,x):\n",
    "    return ch[:x] + ch[x + 1:]\n",
    "\n",
    "ch = input(\"Enter a String: \")\n",
    "x = int(input(\"Enter a Number: \"))\n",
    "\n",
    "if checkX(x,ch):\n",
    "    print(missing_char(ch,x))\n",
    "else:\n",
    "    print(\"An Error Has Occured! Please Try Again\")\n"
   ]
  },
  {
   "cell_type": "code",
   "execution_count": 10,
   "metadata": {},
   "outputs": [
    {
     "name": "stdout",
     "output_type": "stream",
     "text": [
      "First Method Output: \n",
      "[[0, 1], [2, 3], [4, 5]]\n",
      "Second Method Output: \n",
      "[[0, 1], [2, 3], [4, 5]]\n"
     ]
    }
   ],
   "source": [
    "\n",
    "#Question 5:\n",
    "\n",
    "# First Method (Personal Effort 💪💪)\n",
    "\n",
    "import numpy as np\n",
    "\n",
    "x = np.array([[0,1],[2,3],[4,5]])\n",
    "\n",
    "def __convert_into_list(x):\n",
    "    result = []\n",
    "    for i in range(3):\n",
    "        result.append([x[i,0], x[i,1]])\n",
    "    return result\n",
    "\n",
    "print(\"First Method Output: \")\n",
    "print(__convert_into_list(x))\n",
    "\n",
    "# Second Method\n",
    "\n",
    "print(\"Second Method Output: \")\n",
    "print(x.tolist())\n",
    "\n",
    "\n"
   ]
  },
  {
   "cell_type": "code",
   "execution_count": 17,
   "metadata": {},
   "outputs": [
    {
     "name": "stdout",
     "output_type": "stream",
     "text": [
      "[[ 1. -1.]\n",
      " [-1.  1.]]\n"
     ]
    }
   ],
   "source": [
    "\n",
    "#Question 6:\n",
    "\n",
    "import numpy as np\n",
    "\n",
    "x = np.array([0,1,2])\n",
    "y = np.array([2,1,0])\n",
    "\n",
    "print(np.cov(x,y))\n"
   ]
  },
  {
   "cell_type": "code",
   "execution_count": 20,
   "metadata": {},
   "outputs": [
    {
     "name": "stdout",
     "output_type": "stream",
     "text": [
      "Enter D: 100,150,180\n",
      "[18, 22, 24]\n"
     ]
    }
   ],
   "source": [
    "\n",
    "#Question 7:\n",
    "\n",
    "import math\n",
    "\n",
    "x = input(\"Enter D: \")\n",
    "y = x.split(\",\")\n",
    "\n",
    "def __calc(z):\n",
    "    C = 50\n",
    "    H = 30\n",
    "    n = math.sqrt((2 * C * z)/H)\n",
    "    return round(n)\n",
    "\n",
    "def __calc_output(arr):\n",
    "    result = []\n",
    "    if not arr:\n",
    "        return []\n",
    "    else: \n",
    "        for i in arr:\n",
    "            result.append(__calc(int(i)))\n",
    "    return result\n",
    "\n",
    "print(__calc_output(y))\n",
    "\n",
    "\n",
    "    \n"
   ]
  },
  {
   "cell_type": "code",
   "execution_count": null,
   "metadata": {},
   "outputs": [],
   "source": []
  }
 ],
 "metadata": {
  "kernelspec": {
   "display_name": "Python 3",
   "language": "python",
   "name": "python3"
  },
  "language_info": {
   "codemirror_mode": {
    "name": "ipython",
    "version": 3
   },
   "file_extension": ".py",
   "mimetype": "text/x-python",
   "name": "python",
   "nbconvert_exporter": "python",
   "pygments_lexer": "ipython3",
   "version": "3.8.3"
  }
 },
 "nbformat": 4,
 "nbformat_minor": 4
}
